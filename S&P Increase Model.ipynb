{
 "cells": [
  {
   "cell_type": "code",
   "execution_count": 31,
   "id": "6488f10e-42c6-4ad8-8ec3-6df6db454c3d",
   "metadata": {},
   "outputs": [],
   "source": [
    "import pandas as pd\n",
    "import numpy as np\n",
    "import matplotlib.pyplot as plt\n",
    "from sklearn.linear_model import LogisticRegression\n",
    "from sklearn.metrics import accuracy_score\n",
    "from sklearn.ensemble import GradientBoostingClassifier\n",
    "from sklearn.metrics import accuracy_score"
   ]
  },
  {
   "cell_type": "code",
   "execution_count": 26,
   "id": "7eb1f4c8-5265-4b72-842a-e56617ccbeba",
   "metadata": {},
   "outputs": [],
   "source": [
    "#Read in CSPX.L data\n",
    "data = pd.read_csv(\"CSPX_L_historical_data.csv\")\n",
    "\n",
    "#Keep only data from two years ago to now\n",
    "max_date = pd.Timestamp.now(tz='UTC')\n",
    "min_date = max_date - pd.DateOffset(years=2)\n",
    "\n",
    "data['Date'] = pd.to_datetime(data['Date'], utc=True)\n",
    "\n",
    "data_trimmed = data[(data['Date'] >= min_date) & (data['Date'] <= max_date)]\n",
    "\n",
    "data_trimmed = data_trimmed.drop(columns=['Dividends', 'Stock Splits','Capital Gains'])"
   ]
  },
  {
   "cell_type": "code",
   "execution_count": 27,
   "id": "1db5147a-03a2-4f5a-88c4-f7f719bd376c",
   "metadata": {},
   "outputs": [],
   "source": [
    "#Create the timelag\n",
    "#I want yesterdays everything except date\n",
    "data_trimmed['yesterdays_close'] = data_trimmed['Close'].shift(1)\n",
    "data_trimmed['yesterdays_open'] = data_trimmed['Open'].shift(1)\n",
    "data_trimmed['yesterdays_high'] = data_trimmed['High'].shift(1)\n",
    "data_trimmed['yesterdays_volume'] = data_trimmed['Volume'].shift(1)\n",
    "data_trimmed['yesterdays_low'] = data_trimmed['Low'].shift(1)\n",
    "data_trimmed = data_trimmed.iloc[1:]\n",
    "\n",
    "#Create the true/false flag depending on yesterdays close and todays open\n",
    "#If todays open is greater than yesterdays close, that's a 1. Otherwise 0\n",
    "def flag_creator(row):\n",
    "    if row['Open'] > row['yesterdays_close']:\n",
    "        return 1\n",
    "    else:\n",
    "        return 0\n",
    "\n",
    "data_trimmed['Success_Flag'] = data_trimmed.apply(flag_creator,axis=1)\n",
    "data_trimmed = data_trimmed.drop(columns='Open')\n"
   ]
  },
  {
   "cell_type": "code",
   "execution_count": 28,
   "id": "190d9766-b2fb-48a0-aa59-bed3e9714046",
   "metadata": {},
   "outputs": [],
   "source": [
    "#Divide data into test and train sets (using the last two months as the test set)\n",
    "two_months_ago = max_date - pd.DateOffset(months=2)\n",
    "data_test = data_trimmed[data_trimmed['Date'] >= two_months_ago]\n",
    "\n",
    "data_train = data_trimmed[data_trimmed['Date'] <= two_months_ago]\n",
    "\n",
    "data_train = data_train.drop(columns='Date')\n",
    "data_test = data_test.drop(columns='Date')"
   ]
  },
  {
   "cell_type": "code",
   "execution_count": 30,
   "id": "bbb7d92a-57fd-45cc-a6ed-611b89504498",
   "metadata": {},
   "outputs": [
    {
     "name": "stdout",
     "output_type": "stream",
     "text": [
      "Model accuracy: 0.41\n",
      "Coefficients: [[ 1.21939511e-02 -6.53364759e-02  1.00986741e-06  4.81325202e-03\n",
      "   4.87920883e-02]]\n",
      "Intercept: [0.00283658]\n"
     ]
    },
    {
     "name": "stderr",
     "output_type": "stream",
     "text": [
      "C:\\Users\\thoma\\anaconda3\\envs\\StockData\\Lib\\site-packages\\sklearn\\linear_model\\_logistic.py:465: ConvergenceWarning: lbfgs failed to converge (status=1):\n",
      "STOP: TOTAL NO. OF ITERATIONS REACHED LIMIT.\n",
      "\n",
      "Increase the number of iterations (max_iter) or scale the data as shown in:\n",
      "    https://scikit-learn.org/stable/modules/preprocessing.html\n",
      "Please also refer to the documentation for alternative solver options:\n",
      "    https://scikit-learn.org/stable/modules/linear_model.html#logistic-regression\n",
      "  n_iter_i = _check_optimize_result(\n"
     ]
    }
   ],
   "source": [
    "# Example DataFrame `df` with multiple features\n",
    "# Assume you have the following columns: 'close_t-1', 'RSI', 'MACD', 'Volume', etc.\n",
    "x_train = data_train[['yesterdays_close','yesterdays_open','yesterdays_volume','yesterdays_high','yesterdays_low']]  # Independent variables\n",
    "y_train = data_train['Success_Flag']  # Target variable (1 = stock price goes up, 0 = stock price does not go up)\n",
    "\n",
    "x_test = data_test[['yesterdays_close','yesterdays_open','yesterdays_volume','yesterdays_high','yesterdays_low']]\n",
    "y_test = data_test['Success_Flag']\n",
    "\n",
    "# Create and fit the logistic regression model\n",
    "model = LogisticRegression()\n",
    "model.fit(x_train, y_train)\n",
    "\n",
    "# Predict on the test set\n",
    "y_pred = model.predict(x_test)\n",
    "\n",
    "# Evaluate the model's accuracy\n",
    "accuracy = accuracy_score(y_test, y_pred)\n",
    "print(f'Model accuracy: {accuracy:.2f}')\n",
    "\n",
    "# Coefficients and intercept\n",
    "print(f'Coefficients: {model.coef_}')\n",
    "print(f'Intercept: {model.intercept_}')"
   ]
  },
  {
   "cell_type": "code",
   "execution_count": 43,
   "id": "86eb7616-bf15-4c22-89f5-0d12e202e328",
   "metadata": {},
   "outputs": [
    {
     "name": "stdout",
     "output_type": "stream",
     "text": [
      "Model accuracy: 0.56\n",
      "Feature importances: [0.15083268 0.18353088 0.3070979  0.24487278 0.11366576]\n"
     ]
    }
   ],
   "source": [
    "model = GradientBoostingClassifier(n_estimators=1000, learning_rate=1, max_depth=5, random_state=42)\n",
    "model.fit(x_train, y_train)\n",
    "\n",
    "# Make predictions\n",
    "y_pred = model.predict(x_test)\n",
    "\n",
    "# Evaluate the model\n",
    "accuracy = accuracy_score(y_test, y_pred)\n",
    "print(f'Model accuracy: {accuracy:.2f}')\n",
    "\n",
    "# Model performance metrics (optional)\n",
    "print(f'Feature importances: {model.feature_importances_}')"
   ]
  },
  {
   "cell_type": "code",
   "execution_count": null,
   "id": "07fe8fe8-e2af-41b5-b637-fb185e6c4c17",
   "metadata": {},
   "outputs": [],
   "source": []
  }
 ],
 "metadata": {
  "kernelspec": {
   "display_name": "StockData",
   "language": "python",
   "name": "stockdata"
  },
  "language_info": {
   "codemirror_mode": {
    "name": "ipython",
    "version": 3
   },
   "file_extension": ".py",
   "mimetype": "text/x-python",
   "name": "python",
   "nbconvert_exporter": "python",
   "pygments_lexer": "ipython3",
   "version": "3.12.8"
  }
 },
 "nbformat": 4,
 "nbformat_minor": 5
}
